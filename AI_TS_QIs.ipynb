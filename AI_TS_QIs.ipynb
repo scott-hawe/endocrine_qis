{
 "cells": [
  {
   "cell_type": "markdown",
   "id": "f96c0845-77cf-4693-9874-0afe23a77a51",
   "metadata": {},
   "source": [
    "# SPEG Quality Indicator Calculations"
   ]
  },
  {
   "cell_type": "markdown",
   "id": "5f2ec157-4d65-4af5-abdc-9091d078534a",
   "metadata": {},
   "source": [
    "## Turner Syndrome Quality Indicators\n"
   ]
  },
  {
   "cell_type": "markdown",
   "id": "d5611374-52be-4d3e-9e05-7085ba2cc748",
   "metadata": {},
   "source": [
    "The source of the data is the Tableau Master Report from BOXI and the Endocrine Report which cannot be retrieved directly from BOXI but must be specifically requested."
   ]
  },
  {
   "cell_type": "markdown",
   "id": "8b86b9a9-90f0-4904-88b7-2df491eda1e5",
   "metadata": {},
   "source": [
    "There are 5 Turner Syndrome QIs to be calculated.\n",
    "1. Growth Hormone Treatment - Yes/No values\n",
    "2. 6 Monthly Height Recording - Calculated 6 months back from current date\n",
    "3. Annual IGF-1 Measurement - Calculated 12 months back from current date\n",
    "4. Oestrogen Replacement Therapy (ORT) - Yes/No values\n",
    "5. ORT Started at Age 10-12 - Calculated using patient's age at time of start date"
   ]
  },
  {
   "cell_type": "markdown",
   "id": "e7ef93ab-3a9c-434f-a015-fc29e62c9d8f",
   "metadata": {},
   "source": [
    "##### First, the data is retrieved and assigned to dataframes"
   ]
  },
  {
   "cell_type": "code",
   "execution_count": 9,
   "id": "d6342a09-1a1c-4de4-b665-6267f5ff3625",
   "metadata": {},
   "outputs": [],
   "source": [
    "# import necessary libraries for analysis\n",
    "import pandas as pd\n",
    "import numpy as np\n",
    "from datetime import datetime\n",
    "import sys\n",
    "import os\n"
   ]
  },
  {
   "cell_type": "code",
   "execution_count": 10,
   "id": "8da7a472-1475-437a-9218-bc174a4d7670",
   "metadata": {},
   "outputs": [],
   "source": [
    "# define the pathway where source data is retrieved\n",
    "file_input_path = 'data'\n",
    "\n",
    "# directory to store excel files\n",
    "output_directory = 'health_board_files/'"
   ]
  },
  {
   "cell_type": "code",
   "execution_count": 11,
   "id": "12eb151f-efca-422a-b6af-f3e01412922d",
   "metadata": {},
   "outputs": [],
   "source": [
    "# assign the core data to a dataframe\n",
    "raw_core_df = pd.read_excel(file_input_path + '/2024-07-30 ENDOCRINE-Report.xlsx', sheet_name='CoreDataset')\n",
    "\n",
    "\n",
    "# assign the demographic data to a dataframe\n",
    "raw_demographic_df = pd.read_excel(file_input_path + '/2024-07-30 SPEG Tableau Master Report v2.xlsx', sheet_name='Demographics')\n",
    "\n",
    "\n",
    "# assign the demographic data to a dataframe\n",
    "raw_condition_df = pd.read_excel(file_input_path + '/2024-07-30 SPEG Tableau Master Report v2.xlsx', sheet_name='Condition')\n"
   ]
  },
  {
   "cell_type": "markdown",
   "id": "43a3d730-5d2a-4604-969d-d177ff311e30",
   "metadata": {},
   "source": [
    "### Clean core dataset"
   ]
  },
  {
   "cell_type": "code",
   "execution_count": 12,
   "id": "7171f3f8-9784-4e8e-aea3-bda1b6d3a3ca",
   "metadata": {},
   "outputs": [],
   "source": [
    "# copy raw data to new dataframes which will be used for cleaning\n",
    "core_df = raw_core_df\n",
    "demographic_df = raw_demographic_df\n",
    "condition_df = raw_condition_df\n"
   ]
  },
  {
   "cell_type": "code",
   "execution_count": 13,
   "id": "9150a51c-5093-47cf-9fbd-75624f31efa5",
   "metadata": {},
   "outputs": [],
   "source": [
    "# we only want to keep patients where their status is Current or Blank\n",
    "demographic_df = demographic_df[(demographic_df['Patient Status'] == 'CURRENT') | pd.isna(demographic_df['Patient Status'])]\n"
   ]
  },
  {
   "cell_type": "code",
   "execution_count": 14,
   "id": "fcfbcc39-c13c-4db5-9dc9-0906eeb0f730",
   "metadata": {},
   "outputs": [],
   "source": [
    "# we don't need every column contained in the data for calculating QIs. Following defines which ones to drop\n",
    "columns_to_drop = ['Surname', 'Forename',\n",
    "                   'NGHTR', 'NGHTRO',\n",
    "                   'DOTTE', 'DOLTTE_MR',\n",
    "                   'DOBP', 'DOAA',\n",
    "                   'DOCEFS', 'DOVDS', \n",
    "                   'DOCS', 'DOLFT', \n",
    "                   'DORUSSAD', 'DODBS',\n",
    "                   'DOATFTS', 'DOAHbA1cS', 'DOOA']\n",
    "\n",
    "\n",
    "# assign the column dropping list\n",
    "core_df = core_df.drop(columns=columns_to_drop)\n"
   ]
  },
  {
   "cell_type": "code",
   "execution_count": 15,
   "id": "767b1913-c87e-440e-8e5d-e5ef11d027d0",
   "metadata": {},
   "outputs": [],
   "source": [
    "# rename columns appropriately from their key to actual name\n",
    "column_renaming = {'CHINumber': 'CHI', \n",
    "                   'HealthBoardOfResidence': 'Health_Board', \n",
    "                   'TreatmentCentre': 'Treatment_Centre', \n",
    "                   'DOR': 'Date_Of_Record', \n",
    "                   'GHT': 'Growth_Hormone_Treatment', \n",
    "                   'DHR': 'Date_Height_Recorded', \n",
    "                   'DIGF1D': 'Date_IGF1_Done', \n",
    "                   'ORT': 'Oestrogen_Replacement_Therapy', \n",
    "                   'ORSD': 'Oestrogen_Replacement_StartDate'}\n",
    "\n",
    "\n",
    " # assign the column renaming list\n",
    "core_df = core_df.rename(columns=column_renaming)                  \n"
   ]
  },
  {
   "cell_type": "code",
   "execution_count": 16,
   "id": "8182e356-12ce-4a4d-b002-0b427b6c2992",
   "metadata": {},
   "outputs": [],
   "source": [
    "# after discovering some erroneous values in the growth hormone column which should only contain 0 or 1, these can be removed\n",
    "core_df['Growth_Hormone_Treatment'] = core_df['Growth_Hormone_Treatment'].replace({val: np.nan for val in core_df['Growth_Hormone_Treatment'] if val not in [0, 1]})\n"
   ]
  },
  {
   "cell_type": "code",
   "execution_count": 17,
   "id": "7261af02-5505-449d-ba0d-a11bdc0319b2",
   "metadata": {},
   "outputs": [],
   "source": [
    "# the test patient with a CHI of 1111111111 is contained in this data and must be removed\n",
    "core_df = core_df[core_df['CHI'] != 1111111111]\n"
   ]
  },
  {
   "cell_type": "code",
   "execution_count": 18,
   "id": "26b9b9ef-2199-4335-a159-8e9275a10b14",
   "metadata": {},
   "outputs": [],
   "source": [
    "# where CDS_Deleted or PC_Deleted is 1, these rows can be removed\n",
    "core_df = core_df[(core_df['CDS_Deleted'] != 1) & (core_df['PC_Deleted'] != 1)]\n"
   ]
  },
  {
   "cell_type": "code",
   "execution_count": 19,
   "id": "3b09e187-f127-4ac9-90ff-6bdb2d839900",
   "metadata": {},
   "outputs": [],
   "source": [
    "# somewhere in the process of the endocrine report being produced, the leading zeros of CHI numbers have been ommitted\n",
    "# the following adds these back in\n",
    "core_df.loc[:, 'CHI'] = core_df['CHI'].astype(str).apply(lambda x: x.zfill(10) if len(x) == 9 else x)\n"
   ]
  },
  {
   "cell_type": "code",
   "execution_count": 20,
   "id": "10e08c23-0920-4029-b16f-a11062e51825",
   "metadata": {},
   "outputs": [],
   "source": [
    "# we don't need every column contained in the data for calculating QIs. Following defines which ones to drop\n",
    "columns_to_drop = ['Treatment_Centre',\n",
    "                   'PC_Deleted',\n",
    "                   'CDS_Deleted',\n",
    "                   'Health_Board']\n",
    "\n",
    "\n",
    "# assign the column dropping list\n",
    "core_df = core_df.drop(columns=columns_to_drop)\n"
   ]
  },
  {
   "cell_type": "markdown",
   "id": "f828a80f-1419-475b-9b20-bd584c4d22b9",
   "metadata": {},
   "source": [
    "### Clean then combine demographic_df and condition_df"
   ]
  },
  {
   "cell_type": "code",
   "execution_count": 21,
   "id": "cbee92ff-f0c6-43e9-b09b-583709cbd1f6",
   "metadata": {},
   "outputs": [],
   "source": [
    "# add leading zero to chi\n",
    "condition_df.loc[:, 'Chi Number'] = condition_df['Chi Number'].astype(str).apply(lambda x: x.zfill(10) if len(x) == 9 else x)\n",
    "\n",
    "\n",
    "# add leading zero to chi\n",
    "demographic_df.loc[:, 'Chi Number'] = demographic_df['Chi Number'].astype(str).apply(lambda x: x.zfill(10) if len(x) == 9 else x)"
   ]
  },
  {
   "cell_type": "code",
   "execution_count": 22,
   "id": "96338317-afd5-42d1-8d92-67a5cd6599f5",
   "metadata": {},
   "outputs": [],
   "source": [
    "# where Condition Deleted is 1, these rows can be removed\n",
    "condition_df = condition_df[(condition_df['Condition Deleted'] != 1)]\n"
   ]
  },
  {
   "cell_type": "code",
   "execution_count": 23,
   "id": "c6f28fa9-cf8b-4e9a-ad7b-2cb637a3c302",
   "metadata": {},
   "outputs": [
    {
     "name": "stderr",
     "output_type": "stream",
     "text": [
      "C:\\Users\\scotth07\\AppData\\Local\\Temp\\ipykernel_18544\\2587080016.py:2: SettingWithCopyWarning: \n",
      "A value is trying to be set on a copy of a slice from a DataFrame.\n",
      "Try using .loc[row_indexer,col_indexer] = value instead\n",
      "\n",
      "See the caveats in the documentation: https://pandas.pydata.org/pandas-docs/stable/user_guide/indexing.html#returning-a-view-versus-a-copy\n",
      "  demographic_df.loc[:, 'Name'] = demographic_df['First Forename'] + ' ' + demographic_df['Surname']\n"
     ]
    }
   ],
   "source": [
    "# Combine first and second name into a single column\n",
    "demographic_df.loc[:, 'Name'] = demographic_df['First Forename'] + ' ' + demographic_df['Surname']\n",
    "\n",
    "\n",
    "# extract last name initial \n",
    "demographic_df = demographic_df.assign(SurnameInitial=demographic_df['Surname'].apply(lambda x: x[0]))\n",
    "\n",
    "\n",
    "# drop the initial columns\n",
    "demographic_df = demographic_df.drop(columns=['First Forename', 'Surname'])"
   ]
  },
  {
   "cell_type": "code",
   "execution_count": 24,
   "id": "4efe62a8-cd91-4f24-aaed-8aac30391545",
   "metadata": {},
   "outputs": [],
   "source": [
    "# # define list of columns to drop from condition_df\n",
    "# drop_demographic_columns = ['First Forename',\n",
    "#                             'Surname',\n",
    "#                             'Patient Created Date']\n",
    "\n",
    "# # drop the columns\n",
    "# demographic_df = demographic_df.drop(columns=drop_demographic_columns)"
   ]
  },
  {
   "cell_type": "code",
   "execution_count": 25,
   "id": "712c049b-accf-4e9f-b1b6-611018161593",
   "metadata": {},
   "outputs": [],
   "source": [
    "# define list of columns to drop from condition_df\n",
    "drop_condition_columns = ['Condition Outcome',\n",
    "                          'Condition Outcome Date',\n",
    "                          'Condition Deleted', \n",
    "                          'Date Condition Diagnosed']\n",
    "\n",
    "# drop the columns\n",
    "condition_df = condition_df.drop(columns=drop_condition_columns)"
   ]
  },
  {
   "cell_type": "code",
   "execution_count": 26,
   "id": "9187d8b4-7c04-45c8-bb53-ab8327f7315c",
   "metadata": {},
   "outputs": [],
   "source": [
    "# merge the demographics and condition dataframes\n",
    "ts_demographics_df = pd.merge(demographic_df, condition_df, on='Chi Number', how='left')"
   ]
  },
  {
   "cell_type": "code",
   "execution_count": 27,
   "id": "8989b81c-b3a2-4203-a4fc-b19b4f955fd7",
   "metadata": {},
   "outputs": [],
   "source": [
    "# filter the merged dataframe to only include turner syndrome patients\n",
    "ts_demographics_df = ts_demographics_df[(ts_demographics_df['Condition.Condition'] == \"TURNER'S SYNDROME\") | (ts_demographics_df['Sub Condition'] == \"SYNDROMIC - TURNER'S\")]\n",
    "\n",
    "\n",
    "# reset the index\n",
    "ts_demographics_df = ts_demographics_df.reset_index(drop=True)"
   ]
  },
  {
   "cell_type": "code",
   "execution_count": 28,
   "id": "e257d32b-800d-4149-8d62-7302fe7d7424",
   "metadata": {},
   "outputs": [],
   "source": [
    "# drop rows where there are duplicate chi numbers\n",
    "ts_demographics_df = ts_demographics_df.drop_duplicates(subset='Chi Number')\n",
    "\n",
    "\n",
    "# reset index\n",
    "ts_demographics_df = ts_demographics_df.reset_index(drop=True)"
   ]
  },
  {
   "cell_type": "code",
   "execution_count": 29,
   "id": "e01bc696-2723-417a-a0b5-fbb489a4c6bc",
   "metadata": {},
   "outputs": [],
   "source": [
    "# rename columns appropriately\n",
    "column_renaming = {'Chi Number': 'CHI',\n",
    "                   'Date Of Birth': 'Date_of_Birth',\n",
    "                   'Health Board Of Residence Description': 'Health_Board_Of_Residence',\n",
    "                   'Patient Status': 'Patient_Status', \n",
    "                   'Patient Treatment Centre': 'Treatment_Centre',\n",
    "                   'Patient Treatment Centre Health Board': 'Treatment_Centre_Health_Board', \n",
    "                   'Condition.Condition': 'Condition',\n",
    "                   'Sub Condition': 'Sub_Condition'}\n",
    "\n",
    "\n",
    "# assign the column renaming list\n",
    "ts_demographics_df = ts_demographics_df.rename(columns=column_renaming)                  \n"
   ]
  },
  {
   "cell_type": "markdown",
   "id": "fb85b874",
   "metadata": {},
   "source": [
    "### Calculate QIS"
   ]
  },
  {
   "cell_type": "markdown",
   "id": "75de4cc4-ee1a-4e67-9f56-8a6429837aaa",
   "metadata": {},
   "source": [
    "#### 1. Growth Hormone Treatment"
   ]
  },
  {
   "cell_type": "markdown",
   "id": "3e103efb-f8a3-4c14-be0e-b3f91e080b90",
   "metadata": {},
   "source": [
    "Prioritises most recent date of record"
   ]
  },
  {
   "cell_type": "code",
   "execution_count": 30,
   "id": "ddc9114f-d368-4074-9567-aa09907cc49f",
   "metadata": {},
   "outputs": [],
   "source": [
    "# merge the two dataframes before calculating QIs\n",
    "merged_df = pd.merge(ts_demographics_df, core_df, on='CHI', how='left')\n",
    "\n",
    "\n",
    "# most recent date of record if prioritised, the dataframe is sorted accordingly\n",
    "merged_df = merged_df.sort_values(by='Date_Of_Record', ascending=False)\n",
    "\n",
    "\n",
    "# drop duplicate rows so we can retrieve a single value for each patient\n",
    "merged_df = merged_df.drop_duplicates(subset='CHI', keep='first')"
   ]
  },
  {
   "cell_type": "code",
   "execution_count": 31,
   "id": "bb28d0ff-9005-4b3b-b305-15daccb5de0c",
   "metadata": {},
   "outputs": [],
   "source": [
    "# retrieve value of Growth_Hormone_Treatment for each patient using CHI value as key\n",
    "ts_demographics_df['Growth_Hormone_Treatment'] = ts_demographics_df['CHI'].map(merged_df.set_index('CHI')['Growth_Hormone_Treatment'])\n",
    "\n",
    "\n",
    "# replace values of 1 with True and 0 with False\n",
    "ts_demographics_df['Growth_Hormone_Treatment'] = ts_demographics_df['Growth_Hormone_Treatment'].replace({1:True, 0:False})"
   ]
  },
  {
   "cell_type": "markdown",
   "id": "872620b0-2bd2-4f14-b3f0-e6b09928febd",
   "metadata": {},
   "source": [
    "#### 2. 6 Monthly Height Recording"
   ]
  },
  {
   "cell_type": "markdown",
   "id": "86d27de8-9790-4f99-9007-0fabe6df0c51",
   "metadata": {},
   "source": [
    "Prioritises most recent date height recorded"
   ]
  },
  {
   "cell_type": "code",
   "execution_count": 32,
   "id": "aed7e660-16b2-489d-ba99-2dfa3e0afe85",
   "metadata": {},
   "outputs": [],
   "source": [
    "# assign todays date to variable\n",
    "today = pd.to_datetime('today')\n",
    "\n",
    "\n",
    "# assign date of 6 months before today to variable\n",
    "six_months_ago = today - pd.DateOffset(months=6)\n"
   ]
  },
  {
   "cell_type": "code",
   "execution_count": 33,
   "id": "6b2cf615-51f2-4922-80a6-adbfb47d57de",
   "metadata": {},
   "outputs": [],
   "source": [
    "def Six_Monthly_Height_Recording(row):\n",
    "    if row['Date_Height_Recorded'] >= six_months_ago:\n",
    "        val = True\n",
    "    elif row['Date_Height_Recorded'] < six_months_ago:\n",
    "        val = False\n",
    "    else:\n",
    "        val = np.nan\n",
    "    return val"
   ]
  },
  {
   "cell_type": "code",
   "execution_count": 34,
   "id": "1f4024ca-cd4a-49ab-b091-645d27668f62",
   "metadata": {},
   "outputs": [],
   "source": [
    "# merge the two dataframes before calculating QIs\n",
    "merged_df = pd.merge(ts_demographics_df, core_df, on='CHI', how='left')\n",
    "\n",
    "\n",
    "# most recent date of record if prioritised, the dataframe is sorted accordingly\n",
    "merged_df = merged_df.sort_values(by='Date_Of_Record', ascending=False)\n",
    "\n",
    "\n",
    "# drop duplicate rows so we can retrieve a single value for each patient\n",
    "merged_df = merged_df.drop_duplicates(subset='CHI', keep='first')\n",
    "\n",
    "\n",
    "# apply function to return true or false based on date height recorded\n",
    "merged_df['6_Monthly_Height_Recording'] = merged_df.apply(Six_Monthly_Height_Recording, axis=1)\n"
   ]
  },
  {
   "cell_type": "code",
   "execution_count": 35,
   "id": "06f5659f-3445-4051-b83c-9706deafd5ac",
   "metadata": {},
   "outputs": [],
   "source": [
    "# merge the dataframes now that the 6 monthly height recording QI has been calculated\n",
    "ts_demographics_df = pd.merge(ts_demographics_df, merged_df[['CHI', '6_Monthly_Height_Recording']], on='CHI', how='left')\n"
   ]
  },
  {
   "cell_type": "markdown",
   "id": "740e94c3-364d-43fb-8946-c4e64c255b21",
   "metadata": {},
   "source": [
    "#### 3. Annual IGF-1 Measurement"
   ]
  },
  {
   "cell_type": "markdown",
   "id": "e30c4a7f-145e-4fea-9696-31aef9ff31a3",
   "metadata": {},
   "source": [
    "Prioritises most recent date IGF-1 measured"
   ]
  },
  {
   "cell_type": "code",
   "execution_count": 36,
   "id": "53d116c0-e63d-42d3-a4fa-788c65a67db5",
   "metadata": {},
   "outputs": [],
   "source": [
    "# assign date 12 months before today to variable\n",
    "one_year_ago = today - pd.DateOffset(months=12)\n"
   ]
  },
  {
   "cell_type": "code",
   "execution_count": 37,
   "id": "076b815e-5f54-4e6e-a2c7-39293c572e41",
   "metadata": {},
   "outputs": [],
   "source": [
    "def Annual_IFG1_Measurement(row):\n",
    "    if row['Date_IGF1_Done'] >= one_year_ago:\n",
    "        val = True\n",
    "    elif row['Date_IGF1_Done'] < one_year_ago:\n",
    "        val = False\n",
    "    else:\n",
    "        val = np.nan\n",
    "    return val"
   ]
  },
  {
   "cell_type": "code",
   "execution_count": 38,
   "id": "860750c5-6de2-44e4-bab2-d5b8b2fece7b",
   "metadata": {},
   "outputs": [],
   "source": [
    "# merge the two dataframes before calculating QIs\n",
    "merged_df = pd.merge(ts_demographics_df, core_df, on='CHI', how='left')\n",
    "\n",
    "\n",
    "# most recent date of record if prioritised, the dataframe is sorted accordingly\n",
    "merged_df = merged_df.sort_values(by='Date_Of_Record', ascending=False)\n",
    "\n",
    "\n",
    "# drop duplicate rows so we can retrieve a single value for each patient\n",
    "merged_df = merged_df.drop_duplicates(subset='CHI', keep='first')\n",
    "\n",
    "\n",
    "# apply function to return true or false based on date height recorded\n",
    "merged_df['Annual_IGF1_Measurement'] = merged_df.apply(Annual_IFG1_Measurement, axis=1)\n"
   ]
  },
  {
   "cell_type": "code",
   "execution_count": 39,
   "id": "91b697b8-003f-40e8-b2c7-eacdb5e11b3d",
   "metadata": {},
   "outputs": [],
   "source": [
    "# merge the dataframes now that the 6 monthly height recording QI has been calculated\n",
    "ts_demographics_df = pd.merge(ts_demographics_df, merged_df[['CHI', 'Annual_IGF1_Measurement']], on='CHI', how='left')\n"
   ]
  },
  {
   "cell_type": "markdown",
   "id": "ff05baca-74f4-499c-a838-2d384b1aa815",
   "metadata": {},
   "source": [
    "#### 4. Oestrogen Replacement Therapy (ORT)"
   ]
  },
  {
   "cell_type": "markdown",
   "id": "de4b4a4d-28f4-4b42-9667-430247838fb3",
   "metadata": {},
   "source": [
    "Prioritises most recent date of record"
   ]
  },
  {
   "cell_type": "code",
   "execution_count": 40,
   "id": "71321fae-206d-4b3a-8bfa-8a5c798c94e8",
   "metadata": {},
   "outputs": [],
   "source": [
    "# merge the two dataframes again to begin fresh with calculations\n",
    "merged_df = pd.merge(ts_demographics_df, core_df, on='CHI', how='left')\n",
    "\n",
    "\n",
    "# values of 1 should be prioritised so the dataframe is sorted accordingly\n",
    "merged_df = merged_df.sort_values(by='Date_Of_Record', ascending=False)\n",
    "\n",
    "\n",
    "# drop duplicate rows so we can retrieve a single value for each patient\n",
    "merged_df = merged_df.drop_duplicates(subset='CHI', keep='first')\n"
   ]
  },
  {
   "cell_type": "code",
   "execution_count": 41,
   "id": "5c5e135e-14b2-4e02-8f68-cc0361cd9596",
   "metadata": {},
   "outputs": [],
   "source": [
    "# retrieve value of Growth_Hormone_Treatment for each patient using CHI value as key\n",
    "ts_demographics_df['Oestrogen_Replacement_Therapy'] = ts_demographics_df['CHI'].map(merged_df.set_index('CHI')['Oestrogen_Replacement_Therapy'])\n",
    "\n",
    "\n",
    "# replace values of 1 with True and 0 with False\n",
    "ts_demographics_df['Oestrogen_Replacement_Therapy'] = ts_demographics_df['Oestrogen_Replacement_Therapy'].replace({1:True, 0:False})"
   ]
  },
  {
   "cell_type": "markdown",
   "id": "55e85942-0196-4070-95c6-82e8d74a9f26",
   "metadata": {},
   "source": [
    "#### 5. ORT Started at Age 10-12"
   ]
  },
  {
   "cell_type": "markdown",
   "id": "c9c5b887-2216-40f0-9c66-0996a42f4c4b",
   "metadata": {},
   "source": [
    "Prioritises most recent date ORT started"
   ]
  },
  {
   "cell_type": "code",
   "execution_count": 42,
   "id": "cfcdc324-c84e-4575-944a-6cae670cc154",
   "metadata": {},
   "outputs": [],
   "source": [
    "# merge the two dataframes again to begin fresh with calculations\n",
    "merged_df = pd.merge(ts_demographics_df, core_df, on='CHI', how='left')\n",
    "\n",
    "\n",
    "# dataframe is sorted accordingly\n",
    "merged_df = merged_df.sort_values(by='Date_Of_Record', ascending=False)\n",
    "\n",
    "\n",
    "# drop duplicate rows so we can retrieve a single value for each patient\n",
    "merged_df = merged_df.drop_duplicates(subset='CHI', keep='first')\n",
    "\n",
    "\n",
    "# calculate the age of the patient when ORT was started\n",
    "merged_df['ORT_Start_Age'] =  np.floor((merged_df['Oestrogen_Replacement_StartDate'] - merged_df['Date_of_Birth']).dt.days / 365.25)\n",
    "\n",
    "\n",
    "# return true if patient was between ages 10-12 and false if not\n",
    "merged_df['ORT_Started_Age_10_12'] = (merged_df['ORT_Start_Age'] <= 12) & (merged_df['ORT_Start_Age'] >= 10)"
   ]
  },
  {
   "cell_type": "code",
   "execution_count": 43,
   "id": "c9b369cb-9291-437d-81d1-dff8f61a431e",
   "metadata": {},
   "outputs": [],
   "source": [
    "# where there is no date for ORT, assign value of None\n",
    "merged_df['ORT_Started_Age_10_12'] = np.where(merged_df['Oestrogen_Replacement_StartDate'].isnull(), None, merged_df['ORT_Started_Age_10_12'])\n",
    "\n",
    "\n",
    "# replcae values to contain True, False or NaN\n",
    "merged_df['ORT_Started_Age_10_12'] = merged_df['ORT_Started_Age_10_12'].replace({1:True, 0:False, None:np.nan})"
   ]
  },
  {
   "cell_type": "code",
   "execution_count": 44,
   "id": "6fe6d6c6-903c-42e1-acb4-a11ded4c1152",
   "metadata": {},
   "outputs": [],
   "source": [
    "# merge the dataframes\n",
    "ts_demographics_df = pd.merge(ts_demographics_df, merged_df[['CHI', 'ORT_Started_Age_10_12']], on='CHI', how='left')\n"
   ]
  },
  {
   "cell_type": "markdown",
   "id": "6b74442f-e570-4060-a601-4ca684a46d30",
   "metadata": {},
   "source": [
    "#### Finally, I want to check which patients have no core dataset added"
   ]
  },
  {
   "cell_type": "code",
   "execution_count": 45,
   "id": "fe760bc7-b8b4-416d-af44-232dbb44440c",
   "metadata": {},
   "outputs": [],
   "source": [
    "ts_demographics_df['Has_Core_Data_Set'] = ts_demographics_df['CHI'].isin(core_df['CHI'])\n"
   ]
  },
  {
   "cell_type": "markdown",
   "id": "b78cf46a",
   "metadata": {},
   "source": [
    "## Adrenal Insufficiency Quality Indicators\n"
   ]
  },
  {
   "cell_type": "markdown",
   "id": "10d59159",
   "metadata": {},
   "source": [
    "The source of the data is the Tableau Master Report and the Dashboard Data report, both from BOXI"
   ]
  },
  {
   "cell_type": "markdown",
   "id": "b854a523",
   "metadata": {},
   "source": [
    "There are 6 Adrenal Insufficiencies QIs to be calculated.\n",
    "1. Initial Emergency Plan - Yes if there is a date populated, No if not\n",
    "2. Parental Education On IM Injections - Yes if there is a date populated, No if not\n",
    "3. Relevant Acute Services Notification - Yes if there is a date populated, No if not\n",
    "4. School Education - Yes if there is a date populated, No if not\n",
    "5. Scottish Ambulance Service Notification - Yes if there is a date populated, No if not\n",
    "6. Annual Update of Emergency Plan - Calculated 12 months back from current date"
   ]
  },
  {
   "cell_type": "markdown",
   "id": "9ec3adda",
   "metadata": {},
   "source": [
    "#### First, the data is retrieved and assigned to dataframes"
   ]
  },
  {
   "cell_type": "code",
   "execution_count": 46,
   "id": "a43815e6",
   "metadata": {},
   "outputs": [],
   "source": [
    "# define the pathway where source data is retrieved\n",
    "file_input_path = 'data'\n"
   ]
  },
  {
   "cell_type": "code",
   "execution_count": 47,
   "id": "1ea00a22",
   "metadata": {},
   "outputs": [
    {
     "name": "stderr",
     "output_type": "stream",
     "text": [
      "C:\\Users\\scotth07\\AppData\\Local\\anaconda3\\Lib\\site-packages\\openpyxl\\styles\\stylesheet.py:226: UserWarning: Workbook contains no default style, apply openpyxl's default\n",
      "  warn(\"Workbook contains no default style, apply openpyxl's default\")\n"
     ]
    }
   ],
   "source": [
    "# assign the QI encounter data to a dataframe\n",
    "raw_qi_df = pd.read_excel(file_input_path + '/2024-07-30 SPEG-Dashboard-Data.xlsx', sheet_name='Encounters Outcomes')\n",
    "\n",
    "\n",
    "# assign the demographic data to a dataframe\n",
    "raw_demographic_df = pd.read_excel(file_input_path + '/2024-07-30 SPEG Tableau Master Report v2.xlsx', sheet_name='Demographics')\n",
    "\n",
    "\n",
    "# assign the condition data to a dataframe\n",
    "raw_condition_df = pd.read_excel(file_input_path + '/2024-07-30 SPEG Tableau Master Report v2.xlsx', sheet_name='Condition')\n"
   ]
  },
  {
   "cell_type": "code",
   "execution_count": 48,
   "id": "3a58c79e",
   "metadata": {},
   "outputs": [],
   "source": [
    "# copy raw data to new dataframes which will be used for cleaning\n",
    "qi_df = raw_qi_df\n",
    "demographic_df = raw_demographic_df\n",
    "condition_df = raw_condition_df"
   ]
  },
  {
   "cell_type": "markdown",
   "id": "b1fe7d34",
   "metadata": {},
   "source": [
    "### Clean dataframes"
   ]
  },
  {
   "cell_type": "code",
   "execution_count": 49,
   "id": "4f173dbc",
   "metadata": {},
   "outputs": [],
   "source": [
    "# column data types must be changed from object to datetime\n",
    "change_columns = ['ANNUAL UPDATE OF EMERGENCY PLAN',\n",
    "                  'INITIAL EMERGENCY PLAN',\n",
    "                  'PARENTAL EDUCATION ON IM INJECTIONS',\n",
    "                  'RELEVANT ACUTE SERVICES NOTIFICATION',\n",
    "                  'SCHOOL EDUCATION',\n",
    "                  'SCOT AMBULANCE SERVICE NOTIFICATION']\n",
    "\n",
    "\n",
    "# assign the column type change\n",
    "qi_df[change_columns] = qi_df[change_columns].apply(lambda x: pd.to_datetime(x, format='%d/%m/%Y', errors='coerce'))\n"
   ]
  },
  {
   "cell_type": "code",
   "execution_count": 50,
   "id": "19d8f499",
   "metadata": {},
   "outputs": [],
   "source": [
    "# replace all values of X with NaN\n",
    "qi_df = qi_df.replace('X', np.nan)\n",
    "\n",
    "\n",
    "# change naming of CHI column to match other dataframes \n",
    "column_renaming = {'Chi Number': 'CHI'}\n",
    "\n",
    "qi_df = qi_df.rename(columns=column_renaming)"
   ]
  },
  {
   "cell_type": "code",
   "execution_count": 51,
   "id": "4128f632",
   "metadata": {},
   "outputs": [],
   "source": [
    "# we only want to keep patients where their status is Current or Blank\n",
    "demographic_df = demographic_df[(demographic_df['Patient Status'] == 'CURRENT') | pd.isna(demographic_df['Patient Status'])]\n"
   ]
  },
  {
   "cell_type": "code",
   "execution_count": 52,
   "id": "d4323a92-c095-4656-b4f6-ea57bede6dee",
   "metadata": {},
   "outputs": [
    {
     "data": {
      "text/html": [
       "<div>\n",
       "<style scoped>\n",
       "    .dataframe tbody tr th:only-of-type {\n",
       "        vertical-align: middle;\n",
       "    }\n",
       "\n",
       "    .dataframe tbody tr th {\n",
       "        vertical-align: top;\n",
       "    }\n",
       "\n",
       "    .dataframe thead th {\n",
       "        text-align: right;\n",
       "    }\n",
       "</style>\n",
       "<table border=\"1\" class=\"dataframe\">\n",
       "  <thead>\n",
       "    <tr style=\"text-align: right;\">\n",
       "      <th></th>\n",
       "      <th>CHI</th>\n",
       "      <th>ANNUAL UPDATE OF EMERGENCY PLAN</th>\n",
       "      <th>ARGININE</th>\n",
       "      <th>CLINIC REVIEW</th>\n",
       "      <th>COMPLETED</th>\n",
       "      <th>DISCHARGE</th>\n",
       "      <th>GP LETTER SENT</th>\n",
       "      <th>INITIAL EMERGENCY PLAN</th>\n",
       "      <th>NOT COMPLETED</th>\n",
       "      <th>PARENTAL EDUCATION ON IM INJECTIONS</th>\n",
       "      <th>...</th>\n",
       "      <th>REFER - TRANSITION CLINIC</th>\n",
       "      <th>RELEVANT ACUTE SERVICES NOTIFICATION</th>\n",
       "      <th>RETURN VISIT - DOCTOR REVIEW</th>\n",
       "      <th>RETURN VISIT - NURSE REVIEW</th>\n",
       "      <th>SCHOOL EDUCATION</th>\n",
       "      <th>SCOT AMBULANCE SERVICE NOTIFICATION</th>\n",
       "      <th>SEVERE GDH ONGOING: GH DISCONTINUED</th>\n",
       "      <th>SHARED CARE FORM SENT TO GP</th>\n",
       "      <th>STERIOD REPLACEMENT MANAGEMENT PLAN</th>\n",
       "      <th>Unnamed: 20</th>\n",
       "    </tr>\n",
       "  </thead>\n",
       "  <tbody>\n",
       "    <tr>\n",
       "      <th>0</th>\n",
       "      <td>101005083</td>\n",
       "      <td>NaT</td>\n",
       "      <td>01/08/2012</td>\n",
       "      <td>NaN</td>\n",
       "      <td>NaN</td>\n",
       "      <td>NaN</td>\n",
       "      <td>30/07/2012</td>\n",
       "      <td>NaT</td>\n",
       "      <td>28/01/2015</td>\n",
       "      <td>NaT</td>\n",
       "      <td>...</td>\n",
       "      <td>NaN</td>\n",
       "      <td>NaT</td>\n",
       "      <td>NaN</td>\n",
       "      <td>NaN</td>\n",
       "      <td>NaT</td>\n",
       "      <td>NaT</td>\n",
       "      <td>10/02/2015</td>\n",
       "      <td>30/07/2012</td>\n",
       "      <td>NaN</td>\n",
       "      <td>02/08/2012</td>\n",
       "    </tr>\n",
       "    <tr>\n",
       "      <th>1</th>\n",
       "      <td>101066643</td>\n",
       "      <td>NaT</td>\n",
       "      <td>NaN</td>\n",
       "      <td>NaN</td>\n",
       "      <td>NaN</td>\n",
       "      <td>NaN</td>\n",
       "      <td>NaN</td>\n",
       "      <td>NaT</td>\n",
       "      <td>NaN</td>\n",
       "      <td>NaT</td>\n",
       "      <td>...</td>\n",
       "      <td>NaN</td>\n",
       "      <td>NaT</td>\n",
       "      <td>NaN</td>\n",
       "      <td>NaN</td>\n",
       "      <td>NaT</td>\n",
       "      <td>NaT</td>\n",
       "      <td>NaN</td>\n",
       "      <td>NaN</td>\n",
       "      <td>NaN</td>\n",
       "      <td>20/02/2023</td>\n",
       "    </tr>\n",
       "    <tr>\n",
       "      <th>2</th>\n",
       "      <td>101070438</td>\n",
       "      <td>NaT</td>\n",
       "      <td>NaN</td>\n",
       "      <td>NaN</td>\n",
       "      <td>NaN</td>\n",
       "      <td>NaN</td>\n",
       "      <td>NaN</td>\n",
       "      <td>NaT</td>\n",
       "      <td>NaN</td>\n",
       "      <td>NaT</td>\n",
       "      <td>...</td>\n",
       "      <td>NaN</td>\n",
       "      <td>NaT</td>\n",
       "      <td>NaN</td>\n",
       "      <td>NaN</td>\n",
       "      <td>NaT</td>\n",
       "      <td>NaT</td>\n",
       "      <td>NaN</td>\n",
       "      <td>NaN</td>\n",
       "      <td>NaN</td>\n",
       "      <td>26/01/2021</td>\n",
       "    </tr>\n",
       "    <tr>\n",
       "      <th>3</th>\n",
       "      <td>101078587</td>\n",
       "      <td>NaT</td>\n",
       "      <td>NaN</td>\n",
       "      <td>NaN</td>\n",
       "      <td>NaN</td>\n",
       "      <td>NaN</td>\n",
       "      <td>NaN</td>\n",
       "      <td>NaT</td>\n",
       "      <td>NaN</td>\n",
       "      <td>NaT</td>\n",
       "      <td>...</td>\n",
       "      <td>NaN</td>\n",
       "      <td>NaT</td>\n",
       "      <td>NaN</td>\n",
       "      <td>NaN</td>\n",
       "      <td>NaT</td>\n",
       "      <td>NaT</td>\n",
       "      <td>NaN</td>\n",
       "      <td>NaN</td>\n",
       "      <td>NaN</td>\n",
       "      <td>14/07/2020</td>\n",
       "    </tr>\n",
       "    <tr>\n",
       "      <th>4</th>\n",
       "      <td>101090811</td>\n",
       "      <td>NaT</td>\n",
       "      <td>NaN</td>\n",
       "      <td>NaN</td>\n",
       "      <td>NaN</td>\n",
       "      <td>NaN</td>\n",
       "      <td>NaN</td>\n",
       "      <td>NaT</td>\n",
       "      <td>NaN</td>\n",
       "      <td>NaT</td>\n",
       "      <td>...</td>\n",
       "      <td>NaN</td>\n",
       "      <td>NaT</td>\n",
       "      <td>NaN</td>\n",
       "      <td>NaN</td>\n",
       "      <td>NaT</td>\n",
       "      <td>NaT</td>\n",
       "      <td>NaN</td>\n",
       "      <td>NaN</td>\n",
       "      <td>NaN</td>\n",
       "      <td>14/03/2023</td>\n",
       "    </tr>\n",
       "    <tr>\n",
       "      <th>...</th>\n",
       "      <td>...</td>\n",
       "      <td>...</td>\n",
       "      <td>...</td>\n",
       "      <td>...</td>\n",
       "      <td>...</td>\n",
       "      <td>...</td>\n",
       "      <td>...</td>\n",
       "      <td>...</td>\n",
       "      <td>...</td>\n",
       "      <td>...</td>\n",
       "      <td>...</td>\n",
       "      <td>...</td>\n",
       "      <td>...</td>\n",
       "      <td>...</td>\n",
       "      <td>...</td>\n",
       "      <td>...</td>\n",
       "      <td>...</td>\n",
       "      <td>...</td>\n",
       "      <td>...</td>\n",
       "      <td>...</td>\n",
       "      <td>...</td>\n",
       "    </tr>\n",
       "    <tr>\n",
       "      <th>3076</th>\n",
       "      <td>3112058038</td>\n",
       "      <td>NaT</td>\n",
       "      <td>NaN</td>\n",
       "      <td>NaN</td>\n",
       "      <td>NaN</td>\n",
       "      <td>NaN</td>\n",
       "      <td>NaN</td>\n",
       "      <td>NaT</td>\n",
       "      <td>NaN</td>\n",
       "      <td>NaT</td>\n",
       "      <td>...</td>\n",
       "      <td>NaN</td>\n",
       "      <td>NaT</td>\n",
       "      <td>NaN</td>\n",
       "      <td>NaN</td>\n",
       "      <td>NaT</td>\n",
       "      <td>NaT</td>\n",
       "      <td>NaN</td>\n",
       "      <td>NaN</td>\n",
       "      <td>NaN</td>\n",
       "      <td>24/06/2022</td>\n",
       "    </tr>\n",
       "    <tr>\n",
       "      <th>3077</th>\n",
       "      <td>3112060334</td>\n",
       "      <td>NaT</td>\n",
       "      <td>NaN</td>\n",
       "      <td>NaN</td>\n",
       "      <td>NaN</td>\n",
       "      <td>NaN</td>\n",
       "      <td>NaN</td>\n",
       "      <td>NaT</td>\n",
       "      <td>NaN</td>\n",
       "      <td>NaT</td>\n",
       "      <td>...</td>\n",
       "      <td>NaN</td>\n",
       "      <td>NaT</td>\n",
       "      <td>NaN</td>\n",
       "      <td>NaN</td>\n",
       "      <td>NaT</td>\n",
       "      <td>NaT</td>\n",
       "      <td>NaN</td>\n",
       "      <td>NaN</td>\n",
       "      <td>NaN</td>\n",
       "      <td>09/09/2022</td>\n",
       "    </tr>\n",
       "    <tr>\n",
       "      <th>3078</th>\n",
       "      <td>3112088212</td>\n",
       "      <td>2024-04-03</td>\n",
       "      <td>NaN</td>\n",
       "      <td>NaN</td>\n",
       "      <td>NaN</td>\n",
       "      <td>NaN</td>\n",
       "      <td>NaN</td>\n",
       "      <td>2024-04-03</td>\n",
       "      <td>NaN</td>\n",
       "      <td>2024-04-03</td>\n",
       "      <td>...</td>\n",
       "      <td>NaN</td>\n",
       "      <td>2024-04-03</td>\n",
       "      <td>NaN</td>\n",
       "      <td>NaN</td>\n",
       "      <td>NaT</td>\n",
       "      <td>2024-04-03</td>\n",
       "      <td>NaN</td>\n",
       "      <td>NaN</td>\n",
       "      <td>NaN</td>\n",
       "      <td>14/11/2023</td>\n",
       "    </tr>\n",
       "    <tr>\n",
       "      <th>3079</th>\n",
       "      <td>3112135644</td>\n",
       "      <td>NaT</td>\n",
       "      <td>NaN</td>\n",
       "      <td>NaN</td>\n",
       "      <td>NaN</td>\n",
       "      <td>NaN</td>\n",
       "      <td>NaN</td>\n",
       "      <td>NaT</td>\n",
       "      <td>NaN</td>\n",
       "      <td>NaT</td>\n",
       "      <td>...</td>\n",
       "      <td>NaN</td>\n",
       "      <td>NaT</td>\n",
       "      <td>NaN</td>\n",
       "      <td>NaN</td>\n",
       "      <td>NaT</td>\n",
       "      <td>NaT</td>\n",
       "      <td>NaN</td>\n",
       "      <td>NaN</td>\n",
       "      <td>NaN</td>\n",
       "      <td>29/11/2022</td>\n",
       "    </tr>\n",
       "    <tr>\n",
       "      <th>3080</th>\n",
       "      <td>3112975251</td>\n",
       "      <td>NaT</td>\n",
       "      <td>NaN</td>\n",
       "      <td>NaN</td>\n",
       "      <td>NaN</td>\n",
       "      <td>NaN</td>\n",
       "      <td>NaN</td>\n",
       "      <td>NaT</td>\n",
       "      <td>NaN</td>\n",
       "      <td>NaT</td>\n",
       "      <td>...</td>\n",
       "      <td>NaN</td>\n",
       "      <td>NaT</td>\n",
       "      <td>NaN</td>\n",
       "      <td>NaN</td>\n",
       "      <td>NaT</td>\n",
       "      <td>NaT</td>\n",
       "      <td>NaN</td>\n",
       "      <td>NaN</td>\n",
       "      <td>NaN</td>\n",
       "      <td>27/10/2008</td>\n",
       "    </tr>\n",
       "  </tbody>\n",
       "</table>\n",
       "<p>3081 rows × 21 columns</p>\n",
       "</div>"
      ],
      "text/plain": [
       "             CHI ANNUAL UPDATE OF EMERGENCY PLAN    ARGININE CLINIC REVIEW  \\\n",
       "0      101005083                             NaT  01/08/2012           NaN   \n",
       "1      101066643                             NaT         NaN           NaN   \n",
       "2      101070438                             NaT         NaN           NaN   \n",
       "3      101078587                             NaT         NaN           NaN   \n",
       "4      101090811                             NaT         NaN           NaN   \n",
       "...          ...                             ...         ...           ...   \n",
       "3076  3112058038                             NaT         NaN           NaN   \n",
       "3077  3112060334                             NaT         NaN           NaN   \n",
       "3078  3112088212                      2024-04-03         NaN           NaN   \n",
       "3079  3112135644                             NaT         NaN           NaN   \n",
       "3080  3112975251                             NaT         NaN           NaN   \n",
       "\n",
       "     COMPLETED DISCHARGE GP LETTER SENT INITIAL EMERGENCY PLAN NOT COMPLETED  \\\n",
       "0          NaN       NaN     30/07/2012                    NaT    28/01/2015   \n",
       "1          NaN       NaN            NaN                    NaT           NaN   \n",
       "2          NaN       NaN            NaN                    NaT           NaN   \n",
       "3          NaN       NaN            NaN                    NaT           NaN   \n",
       "4          NaN       NaN            NaN                    NaT           NaN   \n",
       "...        ...       ...            ...                    ...           ...   \n",
       "3076       NaN       NaN            NaN                    NaT           NaN   \n",
       "3077       NaN       NaN            NaN                    NaT           NaN   \n",
       "3078       NaN       NaN            NaN             2024-04-03           NaN   \n",
       "3079       NaN       NaN            NaN                    NaT           NaN   \n",
       "3080       NaN       NaN            NaN                    NaT           NaN   \n",
       "\n",
       "     PARENTAL EDUCATION ON IM INJECTIONS  ... REFER - TRANSITION CLINIC  \\\n",
       "0                                    NaT  ...                       NaN   \n",
       "1                                    NaT  ...                       NaN   \n",
       "2                                    NaT  ...                       NaN   \n",
       "3                                    NaT  ...                       NaN   \n",
       "4                                    NaT  ...                       NaN   \n",
       "...                                  ...  ...                       ...   \n",
       "3076                                 NaT  ...                       NaN   \n",
       "3077                                 NaT  ...                       NaN   \n",
       "3078                          2024-04-03  ...                       NaN   \n",
       "3079                                 NaT  ...                       NaN   \n",
       "3080                                 NaT  ...                       NaN   \n",
       "\n",
       "     RELEVANT ACUTE SERVICES NOTIFICATION RETURN VISIT - DOCTOR REVIEW  \\\n",
       "0                                     NaT                          NaN   \n",
       "1                                     NaT                          NaN   \n",
       "2                                     NaT                          NaN   \n",
       "3                                     NaT                          NaN   \n",
       "4                                     NaT                          NaN   \n",
       "...                                   ...                          ...   \n",
       "3076                                  NaT                          NaN   \n",
       "3077                                  NaT                          NaN   \n",
       "3078                           2024-04-03                          NaN   \n",
       "3079                                  NaT                          NaN   \n",
       "3080                                  NaT                          NaN   \n",
       "\n",
       "     RETURN VISIT - NURSE REVIEW SCHOOL EDUCATION  \\\n",
       "0                            NaN              NaT   \n",
       "1                            NaN              NaT   \n",
       "2                            NaN              NaT   \n",
       "3                            NaN              NaT   \n",
       "4                            NaN              NaT   \n",
       "...                          ...              ...   \n",
       "3076                         NaN              NaT   \n",
       "3077                         NaN              NaT   \n",
       "3078                         NaN              NaT   \n",
       "3079                         NaN              NaT   \n",
       "3080                         NaN              NaT   \n",
       "\n",
       "     SCOT AMBULANCE SERVICE NOTIFICATION SEVERE GDH ONGOING: GH DISCONTINUED  \\\n",
       "0                                    NaT                          10/02/2015   \n",
       "1                                    NaT                                 NaN   \n",
       "2                                    NaT                                 NaN   \n",
       "3                                    NaT                                 NaN   \n",
       "4                                    NaT                                 NaN   \n",
       "...                                  ...                                 ...   \n",
       "3076                                 NaT                                 NaN   \n",
       "3077                                 NaT                                 NaN   \n",
       "3078                          2024-04-03                                 NaN   \n",
       "3079                                 NaT                                 NaN   \n",
       "3080                                 NaT                                 NaN   \n",
       "\n",
       "     SHARED CARE FORM SENT TO GP STERIOD REPLACEMENT MANAGEMENT PLAN  \\\n",
       "0                     30/07/2012                                 NaN   \n",
       "1                            NaN                                 NaN   \n",
       "2                            NaN                                 NaN   \n",
       "3                            NaN                                 NaN   \n",
       "4                            NaN                                 NaN   \n",
       "...                          ...                                 ...   \n",
       "3076                         NaN                                 NaN   \n",
       "3077                         NaN                                 NaN   \n",
       "3078                         NaN                                 NaN   \n",
       "3079                         NaN                                 NaN   \n",
       "3080                         NaN                                 NaN   \n",
       "\n",
       "     Unnamed: 20  \n",
       "0     02/08/2012  \n",
       "1     20/02/2023  \n",
       "2     26/01/2021  \n",
       "3     14/07/2020  \n",
       "4     14/03/2023  \n",
       "...          ...  \n",
       "3076  24/06/2022  \n",
       "3077  09/09/2022  \n",
       "3078  14/11/2023  \n",
       "3079  29/11/2022  \n",
       "3080  27/10/2008  \n",
       "\n",
       "[3081 rows x 21 columns]"
      ]
     },
     "execution_count": 52,
     "metadata": {},
     "output_type": "execute_result"
    }
   ],
   "source": [
    "qi_df"
   ]
  },
  {
   "cell_type": "code",
   "execution_count": 53,
   "id": "6b8e652f",
   "metadata": {},
   "outputs": [],
   "source": [
    "# we don't need every column contained in the data for calculating QIs. Following defines which ones to drop\n",
    "columns_to_drop = ['ARGININE',\n",
    "                   'DISCHARGE',\n",
    "                   'CLINIC REVIEW',\n",
    "                   'COMPLETED',\n",
    "                   'GP LETTER SENT',\n",
    "                   'NOT COMPLETED',\n",
    "                   'REFER - OTHER SPECIALTY',\n",
    "                   'REFER - TRANSITION CLINIC',\n",
    "                   'RETURN VISIT - DOCTOR REVIEW',\n",
    "                   'SEVERE GDH ONGOING: GH DISCONTINUED',\n",
    "                   'SHARED CARE FORM SENT TO GP',\n",
    "                   'Unnamed: 20',\n",
    "                   'STERIOD REPLACEMENT MANAGEMENT PLAN']\n",
    "\n",
    "\n",
    "# assign the column dropping list\n",
    "qi_df = qi_df.drop(columns=columns_to_drop)"
   ]
  },
  {
   "cell_type": "code",
   "execution_count": 54,
   "id": "2a3fb3e2",
   "metadata": {},
   "outputs": [],
   "source": [
    "# # we don't need every column contained in the data for calculating QIs. Following defines which ones to drop\n",
    "# columns_to_drop = ['First Forename',\n",
    "#                   'Surname',\n",
    "#                   'Patient Created Date']\n",
    "\n",
    "\n",
    "# # assign the column dropping list\n",
    "# demographic_df = demographic_df.drop(columns=columns_to_drop)"
   ]
  },
  {
   "cell_type": "code",
   "execution_count": 55,
   "id": "668fa3d0",
   "metadata": {},
   "outputs": [],
   "source": [
    "# rename columns appropriately from their key to actual name\n",
    "column_renaming = {'Chi Number': 'CHI', \n",
    "                   'Date Of Birth\t': 'Date_Of_Birth',\n",
    "                   'Health Board Of Residence Description': 'Health_Board_Of_Residence',\n",
    "                   'Patient Status': 'Patient_Status',\n",
    "                   'Patient Treatment Centre': 'Treatment_Centre',\n",
    "                   'Patient Treatment Centre Health Board': 'Treatment_Centre_Health_Board'}\n",
    "\n",
    "\n",
    "# assign the column renaming list\n",
    "demographic_df = demographic_df.rename(columns=column_renaming)"
   ]
  },
  {
   "cell_type": "code",
   "execution_count": 56,
   "id": "72d97e72-463a-4c84-b3e4-48b355ac3f03",
   "metadata": {},
   "outputs": [],
   "source": [
    "# Combine first and second name into a single column\n",
    "demographic_df.loc[:, 'Name'] = demographic_df['First Forename'].fillna('') + ' ' + demographic_df['Surname'].fillna('')\n",
    "\n",
    "# drop the initial columns\n",
    "demographic_df = demographic_df.drop(columns=['First Forename', 'Surname'])"
   ]
  },
  {
   "cell_type": "code",
   "execution_count": 57,
   "id": "b79d0de1",
   "metadata": {},
   "outputs": [],
   "source": [
    "# rename columns appropriately from their key to actual name\n",
    "column_renaming = {'Chi Number': 'CHI', \n",
    "                   'Condition Deleted': 'Condition_Deleted',\n",
    "                   'Date Condition Diagnosed': 'Date_Condition_Diagnosed',\n",
    "                   'Condition.Condition': 'Condition',\n",
    "                   'Sub Condition': 'Sub_Condition',\n",
    "                   'Condition Outcome Date': 'Condition_Outcome_Date',\n",
    "                   'Condition Outcome': 'Condition_Outcome'}\n",
    "\n",
    "\n",
    " # assign the column renaming list\n",
    "condition_df = condition_df.rename(columns=column_renaming)                  \n"
   ]
  },
  {
   "cell_type": "code",
   "execution_count": 58,
   "id": "d8223808",
   "metadata": {},
   "outputs": [],
   "source": [
    "# re-add CHIs with missing leading zero\n",
    "qi_df.loc[:, 'CHI'] = qi_df['CHI'].astype(str).apply(lambda x: x.zfill(10) if len(x) == 9 else x)\n",
    "demographic_df.loc[:, 'CHI'] = demographic_df['CHI'].astype(str).apply(lambda x: x.zfill(10) if len(x) == 9 else x)\n",
    "condition_df.loc[:, 'CHI'] = condition_df['CHI'].astype(str).apply(lambda x: x.zfill(10) if len(x) == 9 else x)\n"
   ]
  },
  {
   "cell_type": "code",
   "execution_count": 59,
   "id": "be81fea5",
   "metadata": {},
   "outputs": [],
   "source": [
    "# the test patient with a CHI of 1111111111 is contained in this data and must be removed\n",
    "condition_df = condition_df[condition_df['CHI'] != 1111111111]\n",
    "\n",
    "\n",
    "# where Condition Deleted is 1, these rows can be removed\n",
    "condition_df = condition_df[(condition_df['Condition_Deleted'] != 1)]\n"
   ]
  },
  {
   "cell_type": "code",
   "execution_count": 60,
   "id": "7e3fdf4d",
   "metadata": {},
   "outputs": [],
   "source": [
    "# filter to only include patients with adrenal insufficiency in the condition columm \n",
    "condition_df = condition_df[condition_df['Condition'] == 'ADRENAL INSUFFICIENCY']"
   ]
  },
  {
   "cell_type": "code",
   "execution_count": 61,
   "id": "5d69a76a",
   "metadata": {},
   "outputs": [],
   "source": [
    "# drop duplicate conditions to only include unique patients\n",
    "condition_df = condition_df.drop_duplicates(subset='CHI')\n",
    "\n",
    "\n",
    "# reset the index\n",
    "condition_df = condition_df.reset_index(drop=True)"
   ]
  },
  {
   "cell_type": "code",
   "execution_count": 62,
   "id": "9a8b5ab4",
   "metadata": {},
   "outputs": [],
   "source": [
    "# we don't need every column contained in the data for calculating QIs. Following defines which ones to drop\n",
    "columns_to_drop = ['Condition_Deleted']\n",
    "\n",
    "\n",
    "# assign the column dropping list\n",
    "condition_df = condition_df.drop(columns=columns_to_drop)"
   ]
  },
  {
   "cell_type": "code",
   "execution_count": 63,
   "id": "d019e06d",
   "metadata": {},
   "outputs": [],
   "source": [
    "demographic_df['CHI'] = demographic_df['CHI'].astype(condition_df['CHI'].dtype)"
   ]
  },
  {
   "cell_type": "code",
   "execution_count": 64,
   "id": "8de2e2e8",
   "metadata": {},
   "outputs": [],
   "source": [
    "ai_demographics_df = pd.merge(demographic_df, condition_df, on='CHI', how='inner')"
   ]
  },
  {
   "cell_type": "code",
   "execution_count": 65,
   "id": "bfdd4df9",
   "metadata": {},
   "outputs": [
    {
     "name": "stdout",
     "output_type": "stream",
     "text": [
      "No duplicates found in the 'CHI' column. Continue with the code.\n"
     ]
    }
   ],
   "source": [
    "if qi_df['CHI'].duplicated().any():\n",
    "    # Duplicates found in the 'CHI' column\n",
    "    print(\"Duplicate entries found in the 'CHI' column. Stopping execution.\")\n",
    "    sys.exit()\n",
    "else:\n",
    "    # No duplicates found, continue with code\n",
    "    print(\"No duplicates found in the 'CHI' column. Continue with the code.\")\n",
    "\n",
    "## if duplicates are found - the following join for merged_df will need to be changed to right i think"
   ]
  },
  {
   "cell_type": "markdown",
   "id": "362bbbfd",
   "metadata": {},
   "source": [
    "### Calculate QIS"
   ]
  },
  {
   "cell_type": "markdown",
   "id": "39cdc2e1",
   "metadata": {},
   "source": [
    "#### 1. Initial Emergency Plan"
   ]
  },
  {
   "cell_type": "code",
   "execution_count": 66,
   "id": "e79547f7",
   "metadata": {},
   "outputs": [],
   "source": [
    "# merge the two dataframes before calculating QIs\n",
    "merged_df = pd.merge(ai_demographics_df, qi_df, on='CHI', how='left')\n",
    "\n",
    "\n"
   ]
  },
  {
   "cell_type": "code",
   "execution_count": 67,
   "id": "1f13d2a1",
   "metadata": {},
   "outputs": [],
   "source": [
    "# most recent date of record is prioritised, the dataframe is sorted accordingly\n",
    "merged_df = merged_df.sort_values(by='INITIAL EMERGENCY PLAN', ascending=False)\n"
   ]
  },
  {
   "cell_type": "code",
   "execution_count": 68,
   "id": "ae22a5d6",
   "metadata": {},
   "outputs": [],
   "source": [
    "# assign False if there is no date of initial emergency plan otherwise True\n",
    "ai_demographics_df['Initial_Emergency_Plan'] = merged_df['INITIAL EMERGENCY PLAN'].notnull()\n",
    "\n",
    "\n",
    "# reset the index\n",
    "ai_demographics_df = ai_demographics_df.reset_index(drop=True)"
   ]
  },
  {
   "cell_type": "markdown",
   "id": "0ecef982",
   "metadata": {},
   "source": [
    "#### 2. Parental Education On IM Injections"
   ]
  },
  {
   "cell_type": "code",
   "execution_count": 69,
   "id": "a8ad2d6a",
   "metadata": {},
   "outputs": [],
   "source": [
    "# merge the two dataframes before calculating QIs\n",
    "merged_df = pd.merge(ai_demographics_df, qi_df, on='CHI', how='left')\n",
    "\n",
    "\n",
    "# most recent date of record if prioritised, the dataframe is sorted accordingly\n",
    "merged_df = merged_df.sort_values(by='PARENTAL EDUCATION ON IM INJECTIONS', ascending=False)\n",
    "\n",
    "\n",
    "# drop duplicate rows so we can retrieve a single value for each patient\n",
    "merged_df = merged_df.drop_duplicates(subset='CHI', keep='first')"
   ]
  },
  {
   "cell_type": "code",
   "execution_count": 70,
   "id": "cc88e1bf",
   "metadata": {},
   "outputs": [],
   "source": [
    "# assign False if there is no date of initial emergency plan otherwise True\n",
    "ai_demographics_df['Parental_Education_On_IM_Injections'] = merged_df['PARENTAL EDUCATION ON IM INJECTIONS'].notnull()\n",
    "\n",
    "\n",
    "# reset the index\n",
    "ai_demographics_df = ai_demographics_df.reset_index(drop=True)"
   ]
  },
  {
   "cell_type": "markdown",
   "id": "c09d730e",
   "metadata": {},
   "source": [
    "#### 3. Relevant Acute Services Notification"
   ]
  },
  {
   "cell_type": "code",
   "execution_count": 71,
   "id": "e1ca7c6c",
   "metadata": {},
   "outputs": [],
   "source": [
    "# merge the two dataframes before calculating QIs\n",
    "merged_df = pd.merge(ai_demographics_df, qi_df, on='CHI', how='left')\n",
    "\n",
    "\n",
    "# most recent date of record if prioritised, the dataframe is sorted accordingly\n",
    "merged_df = merged_df.sort_values(by='RELEVANT ACUTE SERVICES NOTIFICATION', ascending=False)\n",
    "\n",
    "\n",
    "# drop duplicate rows so we can retrieve a single value for each patient\n",
    "merged_df = merged_df.drop_duplicates(subset='CHI', keep='first')"
   ]
  },
  {
   "cell_type": "code",
   "execution_count": 72,
   "id": "c9697430",
   "metadata": {},
   "outputs": [],
   "source": [
    "# assign False if there is no date of initial emergency plan otherwise True\n",
    "ai_demographics_df['Relevant_Acute_Services_Notification'] = merged_df['RELEVANT ACUTE SERVICES NOTIFICATION'].notnull()\n",
    "\n",
    "\n",
    "# reset the index\n",
    "ai_demographics_df = ai_demographics_df.reset_index(drop=True)"
   ]
  },
  {
   "cell_type": "markdown",
   "id": "65a6f36f",
   "metadata": {},
   "source": [
    "#### 4. School Education"
   ]
  },
  {
   "cell_type": "code",
   "execution_count": 73,
   "id": "a4f4b4e6",
   "metadata": {},
   "outputs": [],
   "source": [
    "# merge the two dataframes before calculating QIs\n",
    "merged_df = pd.merge(ai_demographics_df, qi_df, on='CHI', how='left')\n",
    "\n",
    "\n",
    "# most recent date of record if prioritised, the dataframe is sorted accordingly\n",
    "merged_df = merged_df.sort_values(by='SCHOOL EDUCATION', ascending=False)\n",
    "\n",
    "\n",
    "# drop duplicate rows so we can retrieve a single value for each patient\n",
    "merged_df = merged_df.drop_duplicates(subset='CHI', keep='first')"
   ]
  },
  {
   "cell_type": "code",
   "execution_count": 74,
   "id": "6f5d265e",
   "metadata": {},
   "outputs": [],
   "source": [
    "# assign False if there is no date of initial emergency plan otherwise True\n",
    "ai_demographics_df['School_Education'] = merged_df['SCHOOL EDUCATION'].notnull()\n",
    "\n",
    "\n",
    "# reset the index\n",
    "ai_demographics_df = ai_demographics_df.reset_index(drop=True)"
   ]
  },
  {
   "cell_type": "markdown",
   "id": "2d465bd1",
   "metadata": {},
   "source": [
    "#### 5. Scottish Ambulance Service Notification"
   ]
  },
  {
   "cell_type": "code",
   "execution_count": 75,
   "id": "364f11b1",
   "metadata": {},
   "outputs": [],
   "source": [
    "# merge the two dataframes before calculating QIs\n",
    "merged_df = pd.merge(ai_demographics_df, qi_df, on='CHI', how='left')\n",
    "\n",
    "\n",
    "# most recent date of record if prioritised, the dataframe is sorted accordingly\n",
    "merged_df = merged_df.sort_values(by='SCOT AMBULANCE SERVICE NOTIFICATION', ascending=False)\n",
    "\n",
    "\n",
    "# drop duplicate rows so we can retrieve a single value for each patient\n",
    "merged_df = merged_df.drop_duplicates(subset='CHI', keep='first')"
   ]
  },
  {
   "cell_type": "code",
   "execution_count": 76,
   "id": "24619c78",
   "metadata": {},
   "outputs": [],
   "source": [
    "# assign False if there is no date of initial emergency plan otherwise True\n",
    "ai_demographics_df['Scottish_Ambulance_Service_Notification'] = merged_df['SCOT AMBULANCE SERVICE NOTIFICATION'].notnull()\n",
    "\n",
    "\n",
    "# reset the index\n",
    "ai_demographics_df = ai_demographics_df.reset_index(drop=True)"
   ]
  },
  {
   "cell_type": "markdown",
   "id": "cd4b4602",
   "metadata": {},
   "source": [
    "#### 6. Annual Update of Emergency Plan"
   ]
  },
  {
   "cell_type": "code",
   "execution_count": 77,
   "id": "74af0bb0",
   "metadata": {},
   "outputs": [],
   "source": [
    "# assign todays date to variable\n",
    "today = pd.to_datetime('today')\n",
    "\n",
    "\n",
    "# assign date 12 months before today to variable\n",
    "one_year_ago = today - pd.DateOffset(months=12)\n",
    "\n",
    "\n",
    "def Annual_Update(row):\n",
    "    if row['ANNUAL UPDATE OF EMERGENCY PLAN'] >= one_year_ago:\n",
    "        val = True\n",
    "    else:\n",
    "        val = False\n",
    "    return val"
   ]
  },
  {
   "cell_type": "code",
   "execution_count": 78,
   "id": "b9705b7a",
   "metadata": {},
   "outputs": [],
   "source": [
    "# merge the two dataframes again to begin fresh with calculations\n",
    "merged_df = pd.merge(ai_demographics_df, qi_df, on='CHI', how='left')\n",
    "\n",
    "\n",
    "merged_df['ANNUAL UPDATE OF EMERGENCY PLAN'] = pd.to_datetime(merged_df['ANNUAL UPDATE OF EMERGENCY PLAN'], format='%d/%m/%Y')\n",
    "\n",
    "\n",
    "# group by CHI to get the most recent date\n",
    "most_recent_update = merged_df.groupby('CHI', as_index=False)['ANNUAL UPDATE OF EMERGENCY PLAN'].max()\n",
    "\n",
    "\n",
    "# apply function to return true or false based on date updates\n",
    "most_recent_update['Annual_Emergency_Plan_Update'] = most_recent_update.apply(Annual_Update, axis=1)\n"
   ]
  },
  {
   "cell_type": "code",
   "execution_count": 79,
   "id": "7a6dddcb",
   "metadata": {},
   "outputs": [],
   "source": [
    "# merge the dataframes now that the 6 monthly height recording QI has been calculated\n",
    "ai_demographics_df = pd.merge(ai_demographics_df, most_recent_update[['CHI', 'Annual_Emergency_Plan_Update']], on='CHI', how='left')\n",
    "\n"
   ]
  },
  {
   "cell_type": "code",
   "execution_count": 80,
   "id": "6942b962-fbd9-48f6-9442-416d7a3eead0",
   "metadata": {},
   "outputs": [],
   "source": [
    "# replace True with 1 and False with 0. Power Bi won't let conditional formatting in matrix visual be done on True/False but it will allow for 1/0\n",
    "columns_to_update = ['Initial_Emergency_Plan', 'Parental_Education_On_IM_Injections',\n",
    "                     'Relevant_Acute_Services_Notification', 'School_Education',\n",
    "                     'Scottish_Ambulance_Service_Notification',\n",
    "                     'Annual_Emergency_Plan_Update']\n",
    "\n",
    "ai_demographics_df[columns_to_update] = ai_demographics_df[columns_to_update].fillna(False)\n"
   ]
  },
  {
   "cell_type": "code",
   "execution_count": 81,
   "id": "7a3a597a-03d9-4fef-bff6-14bf487c6ba8",
   "metadata": {},
   "outputs": [],
   "source": [
    "ai_demographics_df[columns_to_update] = ai_demographics_df[columns_to_update].replace({True: 1, False: 0})"
   ]
  },
  {
   "cell_type": "code",
   "execution_count": 82,
   "id": "093426eb-f0d7-4175-bbec-a337d10418c4",
   "metadata": {},
   "outputs": [],
   "source": [
    "# replace True with 1 and False with 0. Power Bi won't let conditional formatting in matrix visual be done on True/False but it will allow for 1/0\n",
    "columns_to_update = ['Growth_Hormone_Treatment',\n",
    "                     '6_Monthly_Height_Recording', 'Annual_IGF1_Measurement',\n",
    "                     'Oestrogen_Replacement_Therapy', 'ORT_Started_Age_10_12',\n",
    "                     'Has_Core_Data_Set']\n",
    "\n",
    "ts_demographics_df[columns_to_update] = ts_demographics_df[columns_to_update].fillna(False)\n"
   ]
  },
  {
   "cell_type": "code",
   "execution_count": 83,
   "id": "f8f4336f-1716-4dba-b794-0f585b049638",
   "metadata": {},
   "outputs": [],
   "source": [
    "ts_demographics_df[columns_to_update] = ts_demographics_df[columns_to_update].replace({True: 1, False: 0})"
   ]
  },
  {
   "cell_type": "markdown",
   "id": "ad82d39f-1077-4fa8-847d-df0f381a54a0",
   "metadata": {},
   "source": [
    "### Define dates when data was last refreshed and export to excel"
   ]
  },
  {
   "cell_type": "code",
   "execution_count": 85,
   "id": "881aab3c-6b7d-4c33-902a-8491cad6e040",
   "metadata": {},
   "outputs": [],
   "source": [
    "ts_file_path = file_input_path + '/2024-07-30 ENDOCRINE-Report.xlsx'\n",
    "ai_file_path = file_input_path + '/2024-07-30 SPEG-Dashboard-Data.xlsx'\n",
    "\n",
    "# Get the last modified time\n",
    "ts_modified_time = os.path.getmtime(ts_file_path)\n",
    "ai_modified_time = os.path.getmtime(ai_file_path)"
   ]
  },
  {
   "cell_type": "code",
   "execution_count": 86,
   "id": "e54ad1eb-ba0f-48e7-91a1-04075c4e54bc",
   "metadata": {},
   "outputs": [],
   "source": [
    "# Convert it to a readable format\n",
    "ts_modified_time = datetime.fromtimestamp(ts_modified_time)\n",
    "ai_modified_time = datetime.fromtimestamp(ai_modified_time)"
   ]
  },
  {
   "cell_type": "code",
   "execution_count": 87,
   "id": "d87a16c8-616d-4823-ba0f-77617c812dbe",
   "metadata": {},
   "outputs": [],
   "source": [
    "data = {\n",
    "    'Dataset': ['Turner Syndrome', 'Adrenal Insufficiency'],\n",
    "    'Date Last Refreshed': [ts_modified_time, ai_modified_time]\n",
    "}\n",
    "\n"
   ]
  },
  {
   "cell_type": "code",
   "execution_count": 88,
   "id": "c9db0128-8319-474a-866c-eef1f5f9d7fe",
   "metadata": {},
   "outputs": [],
   "source": [
    "data_modified_df = pd.DataFrame(data)"
   ]
  },
  {
   "cell_type": "code",
   "execution_count": 89,
   "id": "46cd236d-faaf-43ea-a0ab-2814a0ae4039",
   "metadata": {},
   "outputs": [],
   "source": [
    "data_modified_df.to_excel('cleaned_data/refreshed_dates.xlsx', index=False)"
   ]
  },
  {
   "cell_type": "markdown",
   "id": "5373d2ad",
   "metadata": {},
   "source": [
    "### Export data for Power BI"
   ]
  },
  {
   "cell_type": "code",
   "execution_count": 90,
   "id": "18d72a79",
   "metadata": {},
   "outputs": [],
   "source": [
    "ai_demographics_df.to_excel('cleaned_data/ai_calculated_qis.xlsx', index=False)\n",
    "ts_demographics_df.to_excel('cleaned_data/ts_calculated_qis.xlsx', index=False)\n"
   ]
  },
  {
   "cell_type": "markdown",
   "id": "5d97c134",
   "metadata": {},
   "source": [
    "### Export Patient data for Health Boards"
   ]
  },
  {
   "cell_type": "code",
   "execution_count": 91,
   "id": "0fbae157",
   "metadata": {},
   "outputs": [],
   "source": [
    "# following groups together AI and TS QIs into separate grouped dataframes\n",
    "grouped_ai_health_board_df = ai_demographics_df.groupby('Health_Board_Of_Residence')\n",
    "grouped_ts_health_board_df = ts_demographics_df.groupby('Health_Board_Of_Residence')\n",
    "\n"
   ]
  },
  {
   "cell_type": "markdown",
   "id": "fd015648-f36d-4746-8655-d0558aca49ad",
   "metadata": {},
   "source": [
    "#### Calculate which patients are over 18 with a blank or current patient status\n"
   ]
  },
  {
   "cell_type": "code",
   "execution_count": 92,
   "id": "9f478131",
   "metadata": {},
   "outputs": [],
   "source": [
    "# calculate current date\n",
    "current_date = pd.to_datetime('today') \n",
    "\n",
    "\n",
    "# assign age of each patient to new column\n",
    "demographic_df['Age'] = np.floor_divide((current_date - demographic_df['Date Of Birth']).dt.days, 365)\n",
    "\n",
    "\n",
    "# filter patients over 18 with current and blank status\n",
    "patients_active_over_18 = demographic_df[\n",
    "    ((demographic_df['Patient_Status'] == 'CURRENT') |\n",
    "    (pd.isna(demographic_df['Patient_Status']))) &\n",
    "    (demographic_df['Age'] >= 18)]\n",
    "\n",
    "\n",
    "# group patients by health board\n",
    "grouped_patients_active_over_18 = patients_active_over_18.groupby('Health_Board_Of_Residence')"
   ]
  },
  {
   "cell_type": "markdown",
   "id": "c906b472-c392-4c0c-94f3-73e9d8fbe77f",
   "metadata": {},
   "source": [
    "#### Calculate which conditions do not have a date of diagnosis"
   ]
  },
  {
   "cell_type": "code",
   "execution_count": 93,
   "id": "9083ceed-260b-4d2c-b05e-c38f1f46e01a",
   "metadata": {},
   "outputs": [],
   "source": [
    "# somewhere in the process of the endocrine report being produced, the leading zeros of CHI numbers have been ommitted\n",
    "# the following adds these back in\n",
    "raw_demographic_df.loc[:, 'Chi Number'] = raw_demographic_df['Chi Number'].astype(str).apply(lambda x: x.zfill(10) if len(x) == 9 else x)\n",
    "raw_condition_df.loc[:, 'Chi Number'] = raw_condition_df['Chi Number'].astype(str).apply(lambda x: x.zfill(10) if len(x) == 9 else x)\n"
   ]
  },
  {
   "cell_type": "code",
   "execution_count": 94,
   "id": "e28ec5ea",
   "metadata": {},
   "outputs": [],
   "source": [
    "# merge condition and demographic data\n",
    "all_patients_condition = pd.merge(raw_demographic_df, raw_condition_df, on='Chi Number', how='left') \n",
    "\n",
    "\n",
    "# filter conditions with no diagnosis date\n",
    "condition_no_diagnosis_date = all_patients_condition[pd.isna(all_patients_condition['Date Condition Diagnosed'])]\n",
    "\n",
    "\n",
    "# group by health board\n",
    "grouped_patients_no_diagnosis_date = condition_no_diagnosis_date.groupby('Health Board Of Residence Description')"
   ]
  },
  {
   "cell_type": "markdown",
   "id": "4a71fc37-d1b0-451f-9a97-89e40b152314",
   "metadata": {},
   "source": [
    "#### Calculate which patients do not have a condition added"
   ]
  },
  {
   "cell_type": "code",
   "execution_count": 95,
   "id": "ab9ce0eb",
   "metadata": {},
   "outputs": [],
   "source": [
    "# merge condition and demographic data\n",
    "all_patients_condition = pd.merge(raw_demographic_df, raw_condition_df, on='Chi Number', how='left')\n",
    "\n",
    "\n",
    "# filter which patients have no condition\n",
    "patients_no_condition = all_patients_condition[pd.isna(all_patients_condition['Condition.Condition'])]\n",
    "\n",
    "\n",
    "# group by health board\n",
    "grouped_patients_no_condition = patients_no_condition.groupby('Health Board Of Residence Description')"
   ]
  },
  {
   "cell_type": "code",
   "execution_count": 96,
   "id": "41e940f9",
   "metadata": {},
   "outputs": [
    {
     "name": "stdout",
     "output_type": "stream",
     "text": [
      "No data found for 'NHS DUMFRIES & GALLOWAY' - Skipping to next file\n"
     ]
    }
   ],
   "source": [
    "import os\n",
    "\n",
    "for healthboard in grouped_ai_health_board_df.groups.keys():\n",
    "    try:\n",
    "        # Create a filename for each health board\n",
    "        filename = os.path.join(output_directory, f'{healthboard}.xlsx')\n",
    "        # Create an ExcelWriter object for the current health board\n",
    "        with pd.ExcelWriter(filename, engine='xlsxwriter') as writer:\n",
    "            # Write AI dataframe to the first sheet\n",
    "            grouped_ai_health_board_df.get_group(healthboard).to_excel(writer, sheet_name='AI_Patients', index=False)\n",
    "            \n",
    "            # Write TS dataframe to the second sheet\n",
    "            grouped_ts_health_board_df.get_group(healthboard).to_excel(writer, sheet_name='TS_Patients', index=False)\n",
    "\n",
    "            # Write over 18 to the third sheet\n",
    "            grouped_patients_active_over_18.get_group(healthboard).to_excel(writer, sheet_name='Patients_18_&_over', index=False)\n",
    "            \n",
    "            # Write no diagnosis date dataframe to the fourth sheet\n",
    "            grouped_patients_no_diagnosis_date.get_group(healthboard).to_excel(writer, sheet_name='Patients_No_Diagnosis_Date', index=False)\n",
    "\n",
    "            # Write no diagnosis date dataframe to the fourth sheet\n",
    "            grouped_patients_no_condition.get_group(healthboard).to_excel(writer, sheet_name='Patients_No_Condition', index=False)\n",
    "\n",
    "    except KeyError:\n",
    "        print(f\"No data found for '{healthboard}' - Skipping to next file\")\n"
   ]
  }
 ],
 "metadata": {
  "kernelspec": {
   "display_name": "Python 3 (ipykernel)",
   "language": "python",
   "name": "python3"
  },
  "language_info": {
   "codemirror_mode": {
    "name": "ipython",
    "version": 3
   },
   "file_extension": ".py",
   "mimetype": "text/x-python",
   "name": "python",
   "nbconvert_exporter": "python",
   "pygments_lexer": "ipython3",
   "version": "3.11.5"
  }
 },
 "nbformat": 4,
 "nbformat_minor": 5
}
